{
 "cells": [
  {
   "cell_type": "code",
   "execution_count": 2,
   "id": "91def404-fbdd-4a9c-aefe-c4b1a70474a4",
   "metadata": {},
   "outputs": [
    {
     "name": "stdout",
     "output_type": "stream",
     "text": [
      "Expected prize of house with given data is : [34.319]\n"
     ]
    },
    {
     "name": "stderr",
     "output_type": "stream",
     "text": [
      "C:\\Users\\aakas\\anaconda3\\lib\\site-packages\\sklearn\\base.py:409: UserWarning: X does not have valid feature names, but RandomForestRegressor was fitted with feature names\n",
      "  warnings.warn(\n"
     ]
    }
   ],
   "source": [
    "from joblib import dump,load\n",
    "import numpy as np\n",
    "model = load(\"House prize prediction.joblib\")\n",
    "CRIM=float(input(\"CRIM - per capita crime rate by town :\"))\n",
    "ZN=float(input(\"ZN - proportion of residential land zoned for lots over 25,000 sq.ft. :\"))\n",
    "INDUS=float(input(\"INDUS - proportion of non-retail business acres per town :\"))\n",
    "CHAS=float(input(\"CHAS - Charles River dummy variable (= 1 if tract bounds river; 0 otherwise) :\"))\n",
    "NOX=float(input(\"NOX - nitric oxides concentration (parts per 10 million) :\"))\n",
    "RM=float(input(\"RM - average number of rooms per dwelling :\"))\n",
    "AGE=float(input(\"AGE - proportion of owner-occupied units built prior to 1940 :\"))\n",
    "DIS=float(input(\"DIS - weighted distances to five Boston employment centres :\"))\n",
    "RAD=float(input(\"RAD - index of accessibility to radial highways :\"))\n",
    "TAX=float(input(\"TAX - full-value property-tax rate per $10,000 :\"))\n",
    "PTRATIO=float(input(\"PTRATIO - pupil-teacher ratio by town\"))\n",
    "B=float(input(\"B - 1000(Bk - 0.63)^2 where Bk is the proportion of blacks by townv\"))\n",
    "LSTAT=float(input(\"LSTAT - % lower status of the population\"))\n",
    "#features=np.array([[CRIM,ZN,INDUS,CHAS,NOX,RM,AGE,DIS,RAD,TAX,PTRATIO,B,LSTAT]])\n",
    "features=np.array([[0.02729,0,7.07,0,0.469,7.185,61.1,4.9671,2,242,17.8,392.83,4.03]])\n",
    "prize=model.predict(features)\n",
    "print(\"Expected prize of house with given data is :\",prize)"
   ]
  },
  {
   "cell_type": "code",
   "execution_count": null,
   "id": "e6fb20bf-042d-45ca-85fd-798936ea5a60",
   "metadata": {},
   "outputs": [],
   "source": []
  }
 ],
 "metadata": {
  "kernelspec": {
   "display_name": "Python 3 (ipykernel)",
   "language": "python",
   "name": "python3"
  },
  "language_info": {
   "codemirror_mode": {
    "name": "ipython",
    "version": 3
   },
   "file_extension": ".py",
   "mimetype": "text/x-python",
   "name": "python",
   "nbconvert_exporter": "python",
   "pygments_lexer": "ipython3",
   "version": "3.9.16"
  }
 },
 "nbformat": 4,
 "nbformat_minor": 5
}
